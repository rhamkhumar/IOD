{
  "cells": [
    {
      "cell_type": "markdown",
      "metadata": {
        "id": "view-in-github",
        "colab_type": "text"
      },
      "source": [
        "<a href=\"https://colab.research.google.com/github/rhamkhumar/IOD/blob/main/IOD_Lab_8_1_Answers.ipynb\" target=\"_parent\"><img src=\"https://colab.research.google.com/assets/colab-badge.svg\" alt=\"Open In Colab\"/></a>"
      ]
    },
    {
      "cell_type": "markdown",
      "metadata": {
        "id": "xkKr644DL-tU"
      },
      "source": [
        "<div>\n",
        "<img src=https://www.institutedata.com/wp-content/uploads/2019/10/iod_h_tp_primary_c.svg width=\"300\">\n",
        "</div>"
      ]
    },
    {
      "cell_type": "markdown",
      "metadata": {
        "id": "9g6qykXJL-tX"
      },
      "source": [
        "# Lab 8.1: Regular Expressions\n",
        "\n",
        "INSTRUCTIONS:\n",
        "- Read the guides and [hints](https://www.w3schools.com/python/python_regex.asp), then create the necessary analysis and code to find an answer and conclusion for the tasks below.\n",
        "- Complete `IOD Demo-8_2` first"
      ]
    },
    {
      "cell_type": "code",
      "execution_count": 1,
      "metadata": {
        "id": "JnKwEY-EL-ta"
      },
      "outputs": [],
      "source": [
        "import re"
      ]
    },
    {
      "cell_type": "markdown",
      "metadata": {
        "id": "KPLQxm2SL-tj"
      },
      "source": [
        "## 1. Extract the `country code`, `area code` and `local phone number` from the following phone numbers\n",
        "**Hint**: Use groups with `()`. Assume they have the same form as shown."
      ]
    },
    {
      "cell_type": "code",
      "execution_count": 4,
      "metadata": {
        "id": "BqCoNp9jL-tl",
        "outputId": "4d552bb1-c18e-42b2-f55c-7617515bba00",
        "colab": {
          "base_uri": "https://localhost:8080/",
          "height": 265
        }
      },
      "outputs": [
        {
          "output_type": "stream",
          "name": "stdout",
          "text": [
            "Output: [('61', '02', '5443 5434\\n'), ('64', '09', '888 7766\\n'), ('1', '655', '432 4345')]\n",
            "Desired Output: [('61', '02', '5443 5434'), ('64', '09', '888 7766'), ('1', '655', '432 4345')]\n"
          ]
        },
        {
          "output_type": "error",
          "ename": "AssertionError",
          "evalue": "Not equal!",
          "traceback": [
            "\u001b[0;31m---------------------------------------------------------------------------\u001b[0m",
            "\u001b[0;31mAssertionError\u001b[0m                            Traceback (most recent call last)",
            "\u001b[0;32m<ipython-input-4-597608e2d55c>\u001b[0m in \u001b[0;36m<cell line: 19>\u001b[0;34m()\u001b[0m\n\u001b[1;32m     17\u001b[0m \u001b[0mprint\u001b[0m\u001b[0;34m(\u001b[0m\u001b[0;34m\"Output:\"\u001b[0m\u001b[0;34m,\u001b[0m \u001b[0moutput\u001b[0m\u001b[0;34m)\u001b[0m\u001b[0;34m\u001b[0m\u001b[0;34m\u001b[0m\u001b[0m\n\u001b[1;32m     18\u001b[0m \u001b[0mprint\u001b[0m\u001b[0;34m(\u001b[0m\u001b[0;34m\"Desired Output:\"\u001b[0m\u001b[0;34m,\u001b[0m \u001b[0mdesired_output\u001b[0m\u001b[0;34m)\u001b[0m\u001b[0;34m\u001b[0m\u001b[0;34m\u001b[0m\u001b[0m\n\u001b[0;32m---> 19\u001b[0;31m \u001b[0;32massert\u001b[0m \u001b[0moutput\u001b[0m \u001b[0;34m==\u001b[0m \u001b[0mdesired_output\u001b[0m\u001b[0;34m,\u001b[0m \u001b[0;34m'Not equal!'\u001b[0m\u001b[0;34m\u001b[0m\u001b[0;34m\u001b[0m\u001b[0m\n\u001b[0m\u001b[1;32m     20\u001b[0m \u001b[0;34m\u001b[0m\u001b[0m\n\u001b[1;32m     21\u001b[0m \u001b[0;31m#assert output == desired_output, 'Not equal!'\u001b[0m\u001b[0;34m\u001b[0m\u001b[0;34m\u001b[0m\u001b[0m\n",
            "\u001b[0;31mAssertionError\u001b[0m: Not equal!"
          ]
        }
      ],
      "source": [
        "phonenumbers = '''+61 (02) 5443 5434\n",
        "+64 (09) 888 7766\n",
        "+1 (655) 432 4345'''\n",
        "\n",
        "desired_output = [\n",
        "    ('61', '02', '5443 5434'),\n",
        "    ('64', '09', '888 7766'),\n",
        "    ('1', '655', '432 4345')\n",
        "]\n",
        "\n",
        "pattern = r'\\+(\\d+) \\((\\d+)\\) (\\d+ \\d+)'\n",
        "pattern = r'\\+(\\d+) \\((\\d+)\\) ([\\d\\s]+)'\n",
        "\n",
        "output = re.findall(pattern, phonenumbers)\n",
        "\n",
        "\n",
        "print(\"Output:\", output)\n",
        "print(\"Desired Output:\", desired_output)\n",
        "assert output == desired_output, 'Not equal!'\n",
        "\n",
        "#assert output == desired_output, 'Not equal!'"
      ]
    },
    {
      "cell_type": "markdown",
      "metadata": {
        "id": "FrpTl5k8L-tq"
      },
      "source": [
        "## 2. Retrieve all the email addresses from the following text\n",
        "Assume each email address has the form `id@domain.suffix`."
      ]
    },
    {
      "cell_type": "code",
      "execution_count": 8,
      "metadata": {
        "id": "3WfDfuN6L-tr"
      },
      "outputs": [],
      "source": [
        "text = '''Feel free to contact my managers p1@institutedata.com, p_2@domain2.com and p3@institutedata.com\n",
        "for further details.'''\n",
        "\n",
        "desired_output = [\n",
        "    'p1@institutedata.com', 'p_2@domain2.com', 'p3@institutedata.com'\n",
        "]\n",
        "\n",
        "pattern = r'\\w+@\\w+\\.\\w+'\n",
        "\n",
        "output = re.findall(pattern, text)\n",
        "\n",
        "assert output == desired_output, 'Not equal!'"
      ]
    },
    {
      "cell_type": "markdown",
      "metadata": {
        "id": "Ud6omzt0L-tv"
      },
      "source": [
        "## 3. Split the following text into words\n",
        "Add delimiters into the pattern as needed."
      ]
    },
    {
      "cell_type": "code",
      "execution_count": 9,
      "metadata": {
        "id": "oOKdzlhYL-tw"
      },
      "outputs": [],
      "source": [
        "text = 'An, unusual   and; poorly formatted_piece of text'\n",
        "\n",
        "desired_output = 'An unusual and poorly formatted piece of text'\n",
        "\n",
        "pattern = r'[,;\\s_]+'\n",
        "\n",
        "output = ' '.join(re.split(pattern, text))\n",
        "\n",
        "assert output == desired_output, 'Not equal!'"
      ]
    },
    {
      "cell_type": "markdown",
      "metadata": {
        "id": "81L2SRjEL-t0"
      },
      "source": [
        "## 4. Filter the following tweet so that it contains only the message\n",
        "In other words, remove URLs, RTs, CCs, hashtags, mentions, punctuations."
      ]
    },
    {
      "cell_type": "code",
      "execution_count": 10,
      "metadata": {
        "id": "ENU4hR7vL-t0"
      },
      "outputs": [],
      "source": [
        "tweet = 'Hello everyone! RT @MaskedAvenger: Did you see what I got up to earlier? http://abc.me/ref cc: @Mom_Judy #stayfit'\n",
        "\n",
        "desired_output = 'Hello everyone Did you see what I got up to earlier'\n",
        "\n",
        "def clean_tweet(tweet):\n",
        "    # remove URLs\n",
        "    tweet = re.sub(r'http\\S+\\s*', '', tweet)\n",
        "    # remove RT and cc\n",
        "    tweet = re.sub(r'RT|cc', '', tweet)\n",
        "    # remove hashtags\n",
        "    tweet = re.sub(r'#\\S+', '', tweet)\n",
        "    # remove mentions\n",
        "    tweet = re.sub(r'@\\S+', '', tweet)\n",
        "    # remove punctuations\n",
        "    tweet = re.sub(r'[^\\w\\s]', '', tweet)\n",
        "    # remove extra whitespace\n",
        "    tweet = re.sub(r'\\s+', ' ', tweet)\n",
        "    # remove extra whitespace\n",
        "    tweet = re.sub(r'\\s+$', '', tweet)\n",
        "\n",
        "    return tweet\n",
        "\n",
        "output = clean_tweet(tweet)\n",
        "\n",
        "assert output == desired_output, 'Not equal!'"
      ]
    },
    {
      "cell_type": "markdown",
      "metadata": {
        "id": "RERADKgNFq9T"
      },
      "source": [
        "\n",
        "\n",
        "---\n",
        "\n",
        "\n",
        "\n",
        "---\n",
        "\n",
        "\n",
        "\n",
        "> > > > > > > > > © 2024 Institute of Data\n",
        "\n",
        "\n",
        "---\n",
        "\n",
        "\n",
        "\n",
        "---\n",
        "\n",
        "\n",
        "\n"
      ]
    }
  ],
  "metadata": {
    "colab": {
      "provenance": [],
      "include_colab_link": true
    },
    "kernelspec": {
      "display_name": "Python 3",
      "language": "python",
      "name": "python3"
    },
    "language_info": {
      "codemirror_mode": {
        "name": "ipython",
        "version": 3
      },
      "file_extension": ".py",
      "mimetype": "text/x-python",
      "name": "python",
      "nbconvert_exporter": "python",
      "pygments_lexer": "ipython3",
      "version": "3.8.5"
    }
  },
  "nbformat": 4,
  "nbformat_minor": 0
}