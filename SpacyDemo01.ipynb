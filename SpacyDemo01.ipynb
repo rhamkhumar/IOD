{
  "cells": [
    {
      "cell_type": "markdown",
      "metadata": {
        "id": "view-in-github",
        "colab_type": "text"
      },
      "source": [
        "<a href=\"https://colab.research.google.com/github/rhamkhumar/IOD/blob/main/SpacyDemo01.ipynb\" target=\"_parent\"><img src=\"https://colab.research.google.com/assets/colab-badge.svg\" alt=\"Open In Colab\"/></a>"
      ]
    },
    {
      "cell_type": "markdown",
      "metadata": {
        "id": "Be872gFRb_Wi"
      },
      "source": [
        "# Spacy Demo01"
      ]
    },
    {
      "cell_type": "code",
      "execution_count": 1,
      "metadata": {
        "id": "P5WhXNaYb_Wk",
        "colab": {
          "base_uri": "https://localhost:8080/"
        },
        "outputId": "8016916c-15d9-4643-b8e5-ad5779a029e8"
      },
      "outputs": [
        {
          "output_type": "stream",
          "name": "stdout",
          "text": [
            "Requirement already satisfied: spacy in /usr/local/lib/python3.10/dist-packages (3.7.5)\n",
            "Requirement already satisfied: spacy-legacy<3.1.0,>=3.0.11 in /usr/local/lib/python3.10/dist-packages (from spacy) (3.0.12)\n",
            "Requirement already satisfied: spacy-loggers<2.0.0,>=1.0.0 in /usr/local/lib/python3.10/dist-packages (from spacy) (1.0.5)\n",
            "Requirement already satisfied: murmurhash<1.1.0,>=0.28.0 in /usr/local/lib/python3.10/dist-packages (from spacy) (1.0.10)\n",
            "Requirement already satisfied: cymem<2.1.0,>=2.0.2 in /usr/local/lib/python3.10/dist-packages (from spacy) (2.0.8)\n",
            "Requirement already satisfied: preshed<3.1.0,>=3.0.2 in /usr/local/lib/python3.10/dist-packages (from spacy) (3.0.9)\n",
            "Requirement already satisfied: thinc<8.3.0,>=8.2.2 in /usr/local/lib/python3.10/dist-packages (from spacy) (8.2.5)\n",
            "Requirement already satisfied: wasabi<1.2.0,>=0.9.1 in /usr/local/lib/python3.10/dist-packages (from spacy) (1.1.3)\n",
            "Requirement already satisfied: srsly<3.0.0,>=2.4.3 in /usr/local/lib/python3.10/dist-packages (from spacy) (2.4.8)\n",
            "Requirement already satisfied: catalogue<2.1.0,>=2.0.6 in /usr/local/lib/python3.10/dist-packages (from spacy) (2.0.10)\n",
            "Requirement already satisfied: weasel<0.5.0,>=0.1.0 in /usr/local/lib/python3.10/dist-packages (from spacy) (0.4.1)\n",
            "Requirement already satisfied: typer<1.0.0,>=0.3.0 in /usr/local/lib/python3.10/dist-packages (from spacy) (0.13.0)\n",
            "Requirement already satisfied: tqdm<5.0.0,>=4.38.0 in /usr/local/lib/python3.10/dist-packages (from spacy) (4.66.6)\n",
            "Requirement already satisfied: requests<3.0.0,>=2.13.0 in /usr/local/lib/python3.10/dist-packages (from spacy) (2.32.3)\n",
            "Requirement already satisfied: pydantic!=1.8,!=1.8.1,<3.0.0,>=1.7.4 in /usr/local/lib/python3.10/dist-packages (from spacy) (2.9.2)\n",
            "Requirement already satisfied: jinja2 in /usr/local/lib/python3.10/dist-packages (from spacy) (3.1.4)\n",
            "Requirement already satisfied: setuptools in /usr/local/lib/python3.10/dist-packages (from spacy) (75.1.0)\n",
            "Requirement already satisfied: packaging>=20.0 in /usr/local/lib/python3.10/dist-packages (from spacy) (24.2)\n",
            "Requirement already satisfied: langcodes<4.0.0,>=3.2.0 in /usr/local/lib/python3.10/dist-packages (from spacy) (3.4.1)\n",
            "Requirement already satisfied: numpy>=1.19.0 in /usr/local/lib/python3.10/dist-packages (from spacy) (1.26.4)\n",
            "Requirement already satisfied: language-data>=1.2 in /usr/local/lib/python3.10/dist-packages (from langcodes<4.0.0,>=3.2.0->spacy) (1.2.0)\n",
            "Requirement already satisfied: annotated-types>=0.6.0 in /usr/local/lib/python3.10/dist-packages (from pydantic!=1.8,!=1.8.1,<3.0.0,>=1.7.4->spacy) (0.7.0)\n",
            "Requirement already satisfied: pydantic-core==2.23.4 in /usr/local/lib/python3.10/dist-packages (from pydantic!=1.8,!=1.8.1,<3.0.0,>=1.7.4->spacy) (2.23.4)\n",
            "Requirement already satisfied: typing-extensions>=4.6.1 in /usr/local/lib/python3.10/dist-packages (from pydantic!=1.8,!=1.8.1,<3.0.0,>=1.7.4->spacy) (4.12.2)\n",
            "Requirement already satisfied: charset-normalizer<4,>=2 in /usr/local/lib/python3.10/dist-packages (from requests<3.0.0,>=2.13.0->spacy) (3.4.0)\n",
            "Requirement already satisfied: idna<4,>=2.5 in /usr/local/lib/python3.10/dist-packages (from requests<3.0.0,>=2.13.0->spacy) (3.10)\n",
            "Requirement already satisfied: urllib3<3,>=1.21.1 in /usr/local/lib/python3.10/dist-packages (from requests<3.0.0,>=2.13.0->spacy) (2.2.3)\n",
            "Requirement already satisfied: certifi>=2017.4.17 in /usr/local/lib/python3.10/dist-packages (from requests<3.0.0,>=2.13.0->spacy) (2024.8.30)\n",
            "Requirement already satisfied: blis<0.8.0,>=0.7.8 in /usr/local/lib/python3.10/dist-packages (from thinc<8.3.0,>=8.2.2->spacy) (0.7.11)\n",
            "Requirement already satisfied: confection<1.0.0,>=0.0.1 in /usr/local/lib/python3.10/dist-packages (from thinc<8.3.0,>=8.2.2->spacy) (0.1.5)\n",
            "Requirement already satisfied: click>=8.0.0 in /usr/local/lib/python3.10/dist-packages (from typer<1.0.0,>=0.3.0->spacy) (8.1.7)\n",
            "Requirement already satisfied: shellingham>=1.3.0 in /usr/local/lib/python3.10/dist-packages (from typer<1.0.0,>=0.3.0->spacy) (1.5.4)\n",
            "Requirement already satisfied: rich>=10.11.0 in /usr/local/lib/python3.10/dist-packages (from typer<1.0.0,>=0.3.0->spacy) (13.9.4)\n",
            "Requirement already satisfied: cloudpathlib<1.0.0,>=0.7.0 in /usr/local/lib/python3.10/dist-packages (from weasel<0.5.0,>=0.1.0->spacy) (0.20.0)\n",
            "Requirement already satisfied: smart-open<8.0.0,>=5.2.1 in /usr/local/lib/python3.10/dist-packages (from weasel<0.5.0,>=0.1.0->spacy) (7.0.5)\n",
            "Requirement already satisfied: MarkupSafe>=2.0 in /usr/local/lib/python3.10/dist-packages (from jinja2->spacy) (3.0.2)\n",
            "Requirement already satisfied: marisa-trie>=0.7.7 in /usr/local/lib/python3.10/dist-packages (from language-data>=1.2->langcodes<4.0.0,>=3.2.0->spacy) (1.2.1)\n",
            "Requirement already satisfied: markdown-it-py>=2.2.0 in /usr/local/lib/python3.10/dist-packages (from rich>=10.11.0->typer<1.0.0,>=0.3.0->spacy) (3.0.0)\n",
            "Requirement already satisfied: pygments<3.0.0,>=2.13.0 in /usr/local/lib/python3.10/dist-packages (from rich>=10.11.0->typer<1.0.0,>=0.3.0->spacy) (2.18.0)\n",
            "Requirement already satisfied: wrapt in /usr/local/lib/python3.10/dist-packages (from smart-open<8.0.0,>=5.2.1->weasel<0.5.0,>=0.1.0->spacy) (1.16.0)\n",
            "Requirement already satisfied: mdurl~=0.1 in /usr/local/lib/python3.10/dist-packages (from markdown-it-py>=2.2.0->rich>=10.11.0->typer<1.0.0,>=0.3.0->spacy) (0.1.2)\n"
          ]
        }
      ],
      "source": [
        "# import libraries\n",
        "!pip install spacy\n",
        "import spacy"
      ]
    },
    {
      "cell_type": "code",
      "execution_count": 2,
      "metadata": {
        "id": "bw6RPQ81b_Wm",
        "colab": {
          "base_uri": "https://localhost:8080/"
        },
        "outputId": "f6267594-7a9d-4590-97c9-8e2ca6b69d2e"
      },
      "outputs": [
        {
          "output_type": "stream",
          "name": "stdout",
          "text": [
            "Collecting en-core-web-md==3.7.1\n",
            "  Downloading https://github.com/explosion/spacy-models/releases/download/en_core_web_md-3.7.1/en_core_web_md-3.7.1-py3-none-any.whl (42.8 MB)\n",
            "\u001b[2K     \u001b[90m━━━━━━━━━━━━━━━━━━━━━━━━━━━━━━━━━━━━━━━━\u001b[0m \u001b[32m42.8/42.8 MB\u001b[0m \u001b[31m12.4 MB/s\u001b[0m eta \u001b[36m0:00:00\u001b[0m\n",
            "\u001b[?25hRequirement already satisfied: spacy<3.8.0,>=3.7.2 in /usr/local/lib/python3.10/dist-packages (from en-core-web-md==3.7.1) (3.7.5)\n",
            "Requirement already satisfied: spacy-legacy<3.1.0,>=3.0.11 in /usr/local/lib/python3.10/dist-packages (from spacy<3.8.0,>=3.7.2->en-core-web-md==3.7.1) (3.0.12)\n",
            "Requirement already satisfied: spacy-loggers<2.0.0,>=1.0.0 in /usr/local/lib/python3.10/dist-packages (from spacy<3.8.0,>=3.7.2->en-core-web-md==3.7.1) (1.0.5)\n",
            "Requirement already satisfied: murmurhash<1.1.0,>=0.28.0 in /usr/local/lib/python3.10/dist-packages (from spacy<3.8.0,>=3.7.2->en-core-web-md==3.7.1) (1.0.10)\n",
            "Requirement already satisfied: cymem<2.1.0,>=2.0.2 in /usr/local/lib/python3.10/dist-packages (from spacy<3.8.0,>=3.7.2->en-core-web-md==3.7.1) (2.0.8)\n",
            "Requirement already satisfied: preshed<3.1.0,>=3.0.2 in /usr/local/lib/python3.10/dist-packages (from spacy<3.8.0,>=3.7.2->en-core-web-md==3.7.1) (3.0.9)\n",
            "Requirement already satisfied: thinc<8.3.0,>=8.2.2 in /usr/local/lib/python3.10/dist-packages (from spacy<3.8.0,>=3.7.2->en-core-web-md==3.7.1) (8.2.5)\n",
            "Requirement already satisfied: wasabi<1.2.0,>=0.9.1 in /usr/local/lib/python3.10/dist-packages (from spacy<3.8.0,>=3.7.2->en-core-web-md==3.7.1) (1.1.3)\n",
            "Requirement already satisfied: srsly<3.0.0,>=2.4.3 in /usr/local/lib/python3.10/dist-packages (from spacy<3.8.0,>=3.7.2->en-core-web-md==3.7.1) (2.4.8)\n",
            "Requirement already satisfied: catalogue<2.1.0,>=2.0.6 in /usr/local/lib/python3.10/dist-packages (from spacy<3.8.0,>=3.7.2->en-core-web-md==3.7.1) (2.0.10)\n",
            "Requirement already satisfied: weasel<0.5.0,>=0.1.0 in /usr/local/lib/python3.10/dist-packages (from spacy<3.8.0,>=3.7.2->en-core-web-md==3.7.1) (0.4.1)\n",
            "Requirement already satisfied: typer<1.0.0,>=0.3.0 in /usr/local/lib/python3.10/dist-packages (from spacy<3.8.0,>=3.7.2->en-core-web-md==3.7.1) (0.13.0)\n",
            "Requirement already satisfied: tqdm<5.0.0,>=4.38.0 in /usr/local/lib/python3.10/dist-packages (from spacy<3.8.0,>=3.7.2->en-core-web-md==3.7.1) (4.66.6)\n",
            "Requirement already satisfied: requests<3.0.0,>=2.13.0 in /usr/local/lib/python3.10/dist-packages (from spacy<3.8.0,>=3.7.2->en-core-web-md==3.7.1) (2.32.3)\n",
            "Requirement already satisfied: pydantic!=1.8,!=1.8.1,<3.0.0,>=1.7.4 in /usr/local/lib/python3.10/dist-packages (from spacy<3.8.0,>=3.7.2->en-core-web-md==3.7.1) (2.9.2)\n",
            "Requirement already satisfied: jinja2 in /usr/local/lib/python3.10/dist-packages (from spacy<3.8.0,>=3.7.2->en-core-web-md==3.7.1) (3.1.4)\n",
            "Requirement already satisfied: setuptools in /usr/local/lib/python3.10/dist-packages (from spacy<3.8.0,>=3.7.2->en-core-web-md==3.7.1) (75.1.0)\n",
            "Requirement already satisfied: packaging>=20.0 in /usr/local/lib/python3.10/dist-packages (from spacy<3.8.0,>=3.7.2->en-core-web-md==3.7.1) (24.2)\n",
            "Requirement already satisfied: langcodes<4.0.0,>=3.2.0 in /usr/local/lib/python3.10/dist-packages (from spacy<3.8.0,>=3.7.2->en-core-web-md==3.7.1) (3.4.1)\n",
            "Requirement already satisfied: numpy>=1.19.0 in /usr/local/lib/python3.10/dist-packages (from spacy<3.8.0,>=3.7.2->en-core-web-md==3.7.1) (1.26.4)\n",
            "Requirement already satisfied: language-data>=1.2 in /usr/local/lib/python3.10/dist-packages (from langcodes<4.0.0,>=3.2.0->spacy<3.8.0,>=3.7.2->en-core-web-md==3.7.1) (1.2.0)\n",
            "Requirement already satisfied: annotated-types>=0.6.0 in /usr/local/lib/python3.10/dist-packages (from pydantic!=1.8,!=1.8.1,<3.0.0,>=1.7.4->spacy<3.8.0,>=3.7.2->en-core-web-md==3.7.1) (0.7.0)\n",
            "Requirement already satisfied: pydantic-core==2.23.4 in /usr/local/lib/python3.10/dist-packages (from pydantic!=1.8,!=1.8.1,<3.0.0,>=1.7.4->spacy<3.8.0,>=3.7.2->en-core-web-md==3.7.1) (2.23.4)\n",
            "Requirement already satisfied: typing-extensions>=4.6.1 in /usr/local/lib/python3.10/dist-packages (from pydantic!=1.8,!=1.8.1,<3.0.0,>=1.7.4->spacy<3.8.0,>=3.7.2->en-core-web-md==3.7.1) (4.12.2)\n",
            "Requirement already satisfied: charset-normalizer<4,>=2 in /usr/local/lib/python3.10/dist-packages (from requests<3.0.0,>=2.13.0->spacy<3.8.0,>=3.7.2->en-core-web-md==3.7.1) (3.4.0)\n",
            "Requirement already satisfied: idna<4,>=2.5 in /usr/local/lib/python3.10/dist-packages (from requests<3.0.0,>=2.13.0->spacy<3.8.0,>=3.7.2->en-core-web-md==3.7.1) (3.10)\n",
            "Requirement already satisfied: urllib3<3,>=1.21.1 in /usr/local/lib/python3.10/dist-packages (from requests<3.0.0,>=2.13.0->spacy<3.8.0,>=3.7.2->en-core-web-md==3.7.1) (2.2.3)\n",
            "Requirement already satisfied: certifi>=2017.4.17 in /usr/local/lib/python3.10/dist-packages (from requests<3.0.0,>=2.13.0->spacy<3.8.0,>=3.7.2->en-core-web-md==3.7.1) (2024.8.30)\n",
            "Requirement already satisfied: blis<0.8.0,>=0.7.8 in /usr/local/lib/python3.10/dist-packages (from thinc<8.3.0,>=8.2.2->spacy<3.8.0,>=3.7.2->en-core-web-md==3.7.1) (0.7.11)\n",
            "Requirement already satisfied: confection<1.0.0,>=0.0.1 in /usr/local/lib/python3.10/dist-packages (from thinc<8.3.0,>=8.2.2->spacy<3.8.0,>=3.7.2->en-core-web-md==3.7.1) (0.1.5)\n",
            "Requirement already satisfied: click>=8.0.0 in /usr/local/lib/python3.10/dist-packages (from typer<1.0.0,>=0.3.0->spacy<3.8.0,>=3.7.2->en-core-web-md==3.7.1) (8.1.7)\n",
            "Requirement already satisfied: shellingham>=1.3.0 in /usr/local/lib/python3.10/dist-packages (from typer<1.0.0,>=0.3.0->spacy<3.8.0,>=3.7.2->en-core-web-md==3.7.1) (1.5.4)\n",
            "Requirement already satisfied: rich>=10.11.0 in /usr/local/lib/python3.10/dist-packages (from typer<1.0.0,>=0.3.0->spacy<3.8.0,>=3.7.2->en-core-web-md==3.7.1) (13.9.4)\n",
            "Requirement already satisfied: cloudpathlib<1.0.0,>=0.7.0 in /usr/local/lib/python3.10/dist-packages (from weasel<0.5.0,>=0.1.0->spacy<3.8.0,>=3.7.2->en-core-web-md==3.7.1) (0.20.0)\n",
            "Requirement already satisfied: smart-open<8.0.0,>=5.2.1 in /usr/local/lib/python3.10/dist-packages (from weasel<0.5.0,>=0.1.0->spacy<3.8.0,>=3.7.2->en-core-web-md==3.7.1) (7.0.5)\n",
            "Requirement already satisfied: MarkupSafe>=2.0 in /usr/local/lib/python3.10/dist-packages (from jinja2->spacy<3.8.0,>=3.7.2->en-core-web-md==3.7.1) (3.0.2)\n",
            "Requirement already satisfied: marisa-trie>=0.7.7 in /usr/local/lib/python3.10/dist-packages (from language-data>=1.2->langcodes<4.0.0,>=3.2.0->spacy<3.8.0,>=3.7.2->en-core-web-md==3.7.1) (1.2.1)\n",
            "Requirement already satisfied: markdown-it-py>=2.2.0 in /usr/local/lib/python3.10/dist-packages (from rich>=10.11.0->typer<1.0.0,>=0.3.0->spacy<3.8.0,>=3.7.2->en-core-web-md==3.7.1) (3.0.0)\n",
            "Requirement already satisfied: pygments<3.0.0,>=2.13.0 in /usr/local/lib/python3.10/dist-packages (from rich>=10.11.0->typer<1.0.0,>=0.3.0->spacy<3.8.0,>=3.7.2->en-core-web-md==3.7.1) (2.18.0)\n",
            "Requirement already satisfied: wrapt in /usr/local/lib/python3.10/dist-packages (from smart-open<8.0.0,>=5.2.1->weasel<0.5.0,>=0.1.0->spacy<3.8.0,>=3.7.2->en-core-web-md==3.7.1) (1.16.0)\n",
            "Requirement already satisfied: mdurl~=0.1 in /usr/local/lib/python3.10/dist-packages (from markdown-it-py>=2.2.0->rich>=10.11.0->typer<1.0.0,>=0.3.0->spacy<3.8.0,>=3.7.2->en-core-web-md==3.7.1) (0.1.2)\n",
            "Installing collected packages: en-core-web-md\n",
            "Successfully installed en-core-web-md-3.7.1\n",
            "\u001b[38;5;2m✔ Download and installation successful\u001b[0m\n",
            "You can now load the package via spacy.load('en_core_web_md')\n",
            "\u001b[38;5;3m⚠ Restart to reload dependencies\u001b[0m\n",
            "If you are in a Jupyter or Colab notebook, you may need to restart Python in\n",
            "order to load all the package's dependencies. You can do this by selecting the\n",
            "'Restart kernel' or 'Restart runtime' option.\n",
            "CPU times: user 152 ms, sys: 16.7 ms, total: 169 ms\n",
            "Wall time: 16 s\n"
          ]
        }
      ],
      "source": [
        "# download english language model\n",
        "# There are 3 models: small, medium, large\n",
        "# The small model takes around 4 secs to load\n",
        "# The large model takes around 3 mins\n",
        "# Note that some functions work only in medium or large models\n",
        "\n",
        "%time !python -m spacy download en_core_web_md"
      ]
    },
    {
      "cell_type": "code",
      "execution_count": 3,
      "metadata": {
        "id": "V8p05ZLCb_Wn"
      },
      "outputs": [],
      "source": [
        "# intantiate nlp class for english\n",
        "nlp = spacy.load(\"en_core_web_md\")"
      ]
    },
    {
      "cell_type": "code",
      "execution_count": 4,
      "metadata": {
        "id": "A0QdLBHlb_Wo",
        "colab": {
          "base_uri": "https://localhost:8080/"
        },
        "outputId": "7ce50ea9-f21c-453a-ae24-28caf5abf89d"
      },
      "outputs": [
        {
          "output_type": "stream",
          "name": "stdout",
          "text": [
            "token:Such\t tag:PDT\t\tPOS:DET\t\t text:'Such' \tlemma:such\t \n",
            "token:an\t tag:DT\t\tPOS:DET\t\t text:'an' \tlemma:an\t \n",
            "token:analysis\t tag:NN\t\tPOS:NOUN\t\t text:'analysis' \tlemma:analysis\t \n",
            "token:can\t tag:MD\t\tPOS:AUX\t\t text:'can' \tlemma:can\t \n",
            "token:reveal\t tag:VB\t\tPOS:VERB\t\t text:'reveal' \tlemma:reveal\t \n",
            "token:features\t tag:NNS\t\tPOS:NOUN\t\t text:'features' \tlemma:feature\t \n",
            "token:that\t tag:WDT\t\tPOS:PRON\t\t text:'that' \tlemma:that\t \n",
            "token:are\t tag:VBP\t\tPOS:AUX\t\t text:'are' \tlemma:be\t \n",
            "token:not\t tag:RB\t\tPOS:PART\t\t text:'not' \tlemma:not\t \n",
            "token:easily\t tag:RB\t\tPOS:ADV\t\t text:'easily' \tlemma:easily\t \n",
            "token:visible\t tag:JJ\t\tPOS:ADJ\t\t text:'visible' \tlemma:visible\t \n",
            "token:from\t tag:IN\t\tPOS:ADP\t\t text:'from' \tlemma:from\t \n",
            "token:the\t tag:DT\t\tPOS:DET\t\t text:'the' \tlemma:the\t \n",
            "token:variation\t tag:NN\t\tPOS:NOUN\t\t text:'variation' \tlemma:variation\t \n",
            "token:in\t tag:IN\t\tPOS:ADP\t\t text:'in' \tlemma:in\t \n",
            "token:the\t tag:DT\t\tPOS:DET\t\t text:'the' \tlemma:the\t \n",
            "token:individual\t tag:JJ\t\tPOS:ADJ\t\t text:'individual' \tlemma:individual\t \n",
            "token:genes\t tag:NNS\t\tPOS:NOUN\t\t text:'genes' \tlemma:gene\t \n",
            "token:and\t tag:CC\t\tPOS:CCONJ\t\t text:'and' \tlemma:and\t \n",
            "token:can\t tag:MD\t\tPOS:AUX\t\t text:'can' \tlemma:can\t \n",
            "token:lead\t tag:VB\t\tPOS:VERB\t\t text:'lead' \tlemma:lead\t \n",
            "token:to\t tag:IN\t\tPOS:ADP\t\t text:'to' \tlemma:to\t \n",
            "token:a\t tag:DT\t\tPOS:DET\t\t text:'a' \tlemma:a\t \n",
            "token:picture\t tag:NN\t\tPOS:NOUN\t\t text:'picture' \tlemma:picture\t \n",
            "token:of\t tag:IN\t\tPOS:ADP\t\t text:'of' \tlemma:of\t \n",
            "token:expression\t tag:NN\t\tPOS:NOUN\t\t text:'expression' \tlemma:expression\t \n",
            "token:that\t tag:WDT\t\tPOS:PRON\t\t text:'that' \tlemma:that\t \n",
            "token:is\t tag:VBZ\t\tPOS:AUX\t\t text:'is' \tlemma:be\t \n",
            "token:more\t tag:RBR\t\tPOS:ADV\t\t text:'more' \tlemma:more\t \n",
            "token:biologically\t tag:RB\t\tPOS:ADV\t\t text:'biologically' \tlemma:biologically\t \n",
            "token:transparent\t tag:JJ\t\tPOS:ADJ\t\t text:'transparent' \tlemma:transparent\t \n",
            "token:and\t tag:CC\t\tPOS:CCONJ\t\t text:'and' \tlemma:and\t \n",
            "token:accessible\t tag:JJ\t\tPOS:ADJ\t\t text:'accessible' \tlemma:accessible\t \n",
            "token:to\t tag:IN\t\tPOS:ADP\t\t text:'to' \tlemma:to\t \n",
            "token:interpretation\t tag:NN\t\tPOS:NOUN\t\t text:'interpretation' \tlemma:interpretation\t \n",
            "token:\n",
            "\t tag:_SP\t\tPOS:SPACE\t\t text:'\n",
            "' \tlemma:\n",
            "\t \n"
          ]
        }
      ],
      "source": [
        "# tokenisation,\n",
        "# doc = nlp('Drinking a glass of wine is good for your wellbeing!')\n",
        "doc = nlp('''Such an analysis can reveal features that are not easily visible from the variation in the individual genes and can lead to a picture of expression that is more biologically transparent and accessible to interpretation\n",
        "''')\n",
        "for token in doc:\n",
        "    print(f\"token:{token}\\t tag:{token.tag_}\\t\\tPOS:{token.pos_}\\t\\t text:'{token.text}' \\tlemma:{token.lemma_}\\t \")"
      ]
    },
    {
      "cell_type": "code",
      "execution_count": 5,
      "metadata": {
        "id": "QC9aE13Ub_Wp",
        "colab": {
          "base_uri": "https://localhost:8080/"
        },
        "outputId": "08125c9a-70d9-40fb-9ee6-60354f8aa5f6"
      },
      "outputs": [
        {
          "output_type": "stream",
          "name": "stdout",
          "text": [
            "Entity: Apple \t\t type:ORG\n",
            "Entity: U.K. \t\t type:GPE\n",
            "Entity: $1 billion \t\t type:MONEY\n"
          ]
        }
      ],
      "source": [
        "# Named Entity Recognition\n",
        "# doc = nlp(\"He was born in Canberra, Australia in 14/1/1974\")\n",
        "doc = nlp(\"Apple is looking at buying U.K. startup for $1 billion\")\n",
        "for ent in doc.ents:\n",
        "    print(f\"Entity: {ent.text} \\t\\t type:{ent.label_}\")"
      ]
    },
    {
      "cell_type": "code",
      "execution_count": 6,
      "metadata": {
        "id": "ju0JOHmjb_Wq",
        "colab": {
          "base_uri": "https://localhost:8080/",
          "height": 52
        },
        "outputId": "3ecf7f0f-0d26-4939-b884-9bc699dd2981"
      },
      "outputs": [
        {
          "output_type": "display_data",
          "data": {
            "text/plain": [
              "<IPython.core.display.HTML object>"
            ],
            "text/html": [
              "<span class=\"tex2jax_ignore\"><div class=\"entities\" style=\"line-height: 2.5; direction: ltr\">I just bought \n",
              "<mark class=\"entity\" style=\"background: #e4e7d2; padding: 0.45em 0.6em; margin: 0 0.25em; line-height: 1; border-radius: 0.35em;\">\n",
              "    2\n",
              "    <span style=\"font-size: 0.8em; font-weight: bold; line-height: 1; border-radius: 0.35em; vertical-align: middle; margin-left: 0.5rem\">CARDINAL</span>\n",
              "</mark>\n",
              " shares at \n",
              "<mark class=\"entity\" style=\"background: #bfe1d9; padding: 0.45em 0.6em; margin: 0 0.25em; line-height: 1; border-radius: 0.35em;\">\n",
              "    9 a.m.\n",
              "    <span style=\"font-size: 0.8em; font-weight: bold; line-height: 1; border-radius: 0.35em; vertical-align: middle; margin-left: 0.5rem\">TIME</span>\n",
              "</mark>\n",
              " because the stock went up \n",
              "<mark class=\"entity\" style=\"background: #e4e7d2; padding: 0.45em 0.6em; margin: 0 0.25em; line-height: 1; border-radius: 0.35em;\">\n",
              "    30%\n",
              "    <span style=\"font-size: 0.8em; font-weight: bold; line-height: 1; border-radius: 0.35em; vertical-align: middle; margin-left: 0.5rem\">PERCENT</span>\n",
              "</mark>\n",
              " in \n",
              "<mark class=\"entity\" style=\"background: #bfe1d9; padding: 0.45em 0.6em; margin: 0 0.25em; line-height: 1; border-radius: 0.35em;\">\n",
              "    just 2 days\n",
              "    <span style=\"font-size: 0.8em; font-weight: bold; line-height: 1; border-radius: 0.35em; vertical-align: middle; margin-left: 0.5rem\">DATE</span>\n",
              "</mark>\n",
              " according to the \n",
              "<mark class=\"entity\" style=\"background: #7aecec; padding: 0.45em 0.6em; margin: 0 0.25em; line-height: 1; border-radius: 0.35em;\">\n",
              "    WSJ\n",
              "    <span style=\"font-size: 0.8em; font-weight: bold; line-height: 1; border-radius: 0.35em; vertical-align: middle; margin-left: 0.5rem\">ORG</span>\n",
              "</mark>\n",
              "</div></span>"
            ]
          },
          "metadata": {}
        }
      ],
      "source": [
        "# Display tag alongside the text\n",
        "from spacy import displacy\n",
        "\n",
        "doc = nlp('I just bought 2 shares at 9 a.m. because the stock went up 30% in just 2 days according to the WSJ')\n",
        "displacy.render(doc, style='ent', jupyter=True)"
      ]
    },
    {
      "cell_type": "code",
      "execution_count": 7,
      "metadata": {
        "id": "5HUlhuxHb_Wq",
        "colab": {
          "base_uri": "https://localhost:8080/"
        },
        "outputId": "cec25142-7461-4b46-ab20-1ec43b2f378f"
      },
      "outputs": [
        {
          "output_type": "stream",
          "name": "stdout",
          "text": [
            "Text:Wall Street Journal,\t label:NP,\t root:Journal\n",
            "Text:an interesting piece,\t label:NP,\t root:piece\n",
            "Text:crypto currencies,\t label:NP,\t root:currencies\n"
          ]
        }
      ],
      "source": [
        "# noun-phrase chunking\n",
        "doc = nlp(\"Wall Street Journal just published an interesting piece on crypto currencies\")\n",
        "for chunk in doc.noun_chunks:\n",
        "    print(f\"Text:{chunk.text},\\t label:{chunk.label_},\\t root:{chunk.root.text}\")"
      ]
    },
    {
      "cell_type": "code",
      "execution_count": 8,
      "metadata": {
        "id": "TFKc2Np5b_Wq",
        "colab": {
          "base_uri": "https://localhost:8080/",
          "height": 293
        },
        "outputId": "6cf0089c-265b-42c3-e665-18bd41fd7554"
      },
      "outputs": [
        {
          "output_type": "display_data",
          "data": {
            "text/plain": [
              "<IPython.core.display.HTML object>"
            ],
            "text/html": [
              "<span class=\"tex2jax_ignore\"><svg xmlns=\"http://www.w3.org/2000/svg\" xmlns:xlink=\"http://www.w3.org/1999/xlink\" xml:lang=\"en\" id=\"5177bc74d4554bee91784a6ada517073-0\" class=\"displacy\" width=\"1040\" height=\"272.0\" direction=\"ltr\" style=\"max-width: none; height: 272.0px; color: #000000; background: #ffffff; font-family: Arial; direction: ltr\">\n",
              "<text class=\"displacy-token\" fill=\"currentColor\" text-anchor=\"middle\" y=\"182.0\">\n",
              "    <tspan class=\"displacy-word\" fill=\"currentColor\" x=\"50\">Wall</tspan>\n",
              "    <tspan class=\"displacy-tag\" dy=\"2em\" fill=\"currentColor\" x=\"50\">PROPN</tspan>\n",
              "</text>\n",
              "\n",
              "<text class=\"displacy-token\" fill=\"currentColor\" text-anchor=\"middle\" y=\"182.0\">\n",
              "    <tspan class=\"displacy-word\" fill=\"currentColor\" x=\"140\">Street</tspan>\n",
              "    <tspan class=\"displacy-tag\" dy=\"2em\" fill=\"currentColor\" x=\"140\">PROPN</tspan>\n",
              "</text>\n",
              "\n",
              "<text class=\"displacy-token\" fill=\"currentColor\" text-anchor=\"middle\" y=\"182.0\">\n",
              "    <tspan class=\"displacy-word\" fill=\"currentColor\" x=\"230\">Journal</tspan>\n",
              "    <tspan class=\"displacy-tag\" dy=\"2em\" fill=\"currentColor\" x=\"230\">PROPN</tspan>\n",
              "</text>\n",
              "\n",
              "<text class=\"displacy-token\" fill=\"currentColor\" text-anchor=\"middle\" y=\"182.0\">\n",
              "    <tspan class=\"displacy-word\" fill=\"currentColor\" x=\"320\">just</tspan>\n",
              "    <tspan class=\"displacy-tag\" dy=\"2em\" fill=\"currentColor\" x=\"320\">ADV</tspan>\n",
              "</text>\n",
              "\n",
              "<text class=\"displacy-token\" fill=\"currentColor\" text-anchor=\"middle\" y=\"182.0\">\n",
              "    <tspan class=\"displacy-word\" fill=\"currentColor\" x=\"410\">published</tspan>\n",
              "    <tspan class=\"displacy-tag\" dy=\"2em\" fill=\"currentColor\" x=\"410\">VERB</tspan>\n",
              "</text>\n",
              "\n",
              "<text class=\"displacy-token\" fill=\"currentColor\" text-anchor=\"middle\" y=\"182.0\">\n",
              "    <tspan class=\"displacy-word\" fill=\"currentColor\" x=\"500\">an</tspan>\n",
              "    <tspan class=\"displacy-tag\" dy=\"2em\" fill=\"currentColor\" x=\"500\">DET</tspan>\n",
              "</text>\n",
              "\n",
              "<text class=\"displacy-token\" fill=\"currentColor\" text-anchor=\"middle\" y=\"182.0\">\n",
              "    <tspan class=\"displacy-word\" fill=\"currentColor\" x=\"590\">interesting</tspan>\n",
              "    <tspan class=\"displacy-tag\" dy=\"2em\" fill=\"currentColor\" x=\"590\">ADJ</tspan>\n",
              "</text>\n",
              "\n",
              "<text class=\"displacy-token\" fill=\"currentColor\" text-anchor=\"middle\" y=\"182.0\">\n",
              "    <tspan class=\"displacy-word\" fill=\"currentColor\" x=\"680\">piece</tspan>\n",
              "    <tspan class=\"displacy-tag\" dy=\"2em\" fill=\"currentColor\" x=\"680\">NOUN</tspan>\n",
              "</text>\n",
              "\n",
              "<text class=\"displacy-token\" fill=\"currentColor\" text-anchor=\"middle\" y=\"182.0\">\n",
              "    <tspan class=\"displacy-word\" fill=\"currentColor\" x=\"770\">on</tspan>\n",
              "    <tspan class=\"displacy-tag\" dy=\"2em\" fill=\"currentColor\" x=\"770\">ADP</tspan>\n",
              "</text>\n",
              "\n",
              "<text class=\"displacy-token\" fill=\"currentColor\" text-anchor=\"middle\" y=\"182.0\">\n",
              "    <tspan class=\"displacy-word\" fill=\"currentColor\" x=\"860\">crypto</tspan>\n",
              "    <tspan class=\"displacy-tag\" dy=\"2em\" fill=\"currentColor\" x=\"860\">ADJ</tspan>\n",
              "</text>\n",
              "\n",
              "<text class=\"displacy-token\" fill=\"currentColor\" text-anchor=\"middle\" y=\"182.0\">\n",
              "    <tspan class=\"displacy-word\" fill=\"currentColor\" x=\"950\">currencies</tspan>\n",
              "    <tspan class=\"displacy-tag\" dy=\"2em\" fill=\"currentColor\" x=\"950\">NOUN</tspan>\n",
              "</text>\n",
              "\n",
              "<g class=\"displacy-arrow\">\n",
              "    <path class=\"displacy-arc\" id=\"arrow-5177bc74d4554bee91784a6ada517073-0-0\" stroke-width=\"2px\" d=\"M70,137.0 C70,92.0 130.0,92.0 130.0,137.0\" fill=\"none\" stroke=\"currentColor\"/>\n",
              "    <text dy=\"1.25em\" style=\"font-size: 0.8em; letter-spacing: 1px\">\n",
              "        <textPath xlink:href=\"#arrow-5177bc74d4554bee91784a6ada517073-0-0\" class=\"displacy-label\" startOffset=\"50%\" side=\"left\" fill=\"currentColor\" text-anchor=\"middle\">compound</textPath>\n",
              "    </text>\n",
              "    <path class=\"displacy-arrowhead\" d=\"M70,139.0 L62,127.0 78,127.0\" fill=\"currentColor\"/>\n",
              "</g>\n",
              "\n",
              "<g class=\"displacy-arrow\">\n",
              "    <path class=\"displacy-arc\" id=\"arrow-5177bc74d4554bee91784a6ada517073-0-1\" stroke-width=\"2px\" d=\"M160,137.0 C160,92.0 220.0,92.0 220.0,137.0\" fill=\"none\" stroke=\"currentColor\"/>\n",
              "    <text dy=\"1.25em\" style=\"font-size: 0.8em; letter-spacing: 1px\">\n",
              "        <textPath xlink:href=\"#arrow-5177bc74d4554bee91784a6ada517073-0-1\" class=\"displacy-label\" startOffset=\"50%\" side=\"left\" fill=\"currentColor\" text-anchor=\"middle\">compound</textPath>\n",
              "    </text>\n",
              "    <path class=\"displacy-arrowhead\" d=\"M160,139.0 L152,127.0 168,127.0\" fill=\"currentColor\"/>\n",
              "</g>\n",
              "\n",
              "<g class=\"displacy-arrow\">\n",
              "    <path class=\"displacy-arc\" id=\"arrow-5177bc74d4554bee91784a6ada517073-0-2\" stroke-width=\"2px\" d=\"M250,137.0 C250,47.0 405.0,47.0 405.0,137.0\" fill=\"none\" stroke=\"currentColor\"/>\n",
              "    <text dy=\"1.25em\" style=\"font-size: 0.8em; letter-spacing: 1px\">\n",
              "        <textPath xlink:href=\"#arrow-5177bc74d4554bee91784a6ada517073-0-2\" class=\"displacy-label\" startOffset=\"50%\" side=\"left\" fill=\"currentColor\" text-anchor=\"middle\">nsubj</textPath>\n",
              "    </text>\n",
              "    <path class=\"displacy-arrowhead\" d=\"M250,139.0 L242,127.0 258,127.0\" fill=\"currentColor\"/>\n",
              "</g>\n",
              "\n",
              "<g class=\"displacy-arrow\">\n",
              "    <path class=\"displacy-arc\" id=\"arrow-5177bc74d4554bee91784a6ada517073-0-3\" stroke-width=\"2px\" d=\"M340,137.0 C340,92.0 400.0,92.0 400.0,137.0\" fill=\"none\" stroke=\"currentColor\"/>\n",
              "    <text dy=\"1.25em\" style=\"font-size: 0.8em; letter-spacing: 1px\">\n",
              "        <textPath xlink:href=\"#arrow-5177bc74d4554bee91784a6ada517073-0-3\" class=\"displacy-label\" startOffset=\"50%\" side=\"left\" fill=\"currentColor\" text-anchor=\"middle\">advmod</textPath>\n",
              "    </text>\n",
              "    <path class=\"displacy-arrowhead\" d=\"M340,139.0 L332,127.0 348,127.0\" fill=\"currentColor\"/>\n",
              "</g>\n",
              "\n",
              "<g class=\"displacy-arrow\">\n",
              "    <path class=\"displacy-arc\" id=\"arrow-5177bc74d4554bee91784a6ada517073-0-4\" stroke-width=\"2px\" d=\"M520,137.0 C520,47.0 675.0,47.0 675.0,137.0\" fill=\"none\" stroke=\"currentColor\"/>\n",
              "    <text dy=\"1.25em\" style=\"font-size: 0.8em; letter-spacing: 1px\">\n",
              "        <textPath xlink:href=\"#arrow-5177bc74d4554bee91784a6ada517073-0-4\" class=\"displacy-label\" startOffset=\"50%\" side=\"left\" fill=\"currentColor\" text-anchor=\"middle\">det</textPath>\n",
              "    </text>\n",
              "    <path class=\"displacy-arrowhead\" d=\"M520,139.0 L512,127.0 528,127.0\" fill=\"currentColor\"/>\n",
              "</g>\n",
              "\n",
              "<g class=\"displacy-arrow\">\n",
              "    <path class=\"displacy-arc\" id=\"arrow-5177bc74d4554bee91784a6ada517073-0-5\" stroke-width=\"2px\" d=\"M610,137.0 C610,92.0 670.0,92.0 670.0,137.0\" fill=\"none\" stroke=\"currentColor\"/>\n",
              "    <text dy=\"1.25em\" style=\"font-size: 0.8em; letter-spacing: 1px\">\n",
              "        <textPath xlink:href=\"#arrow-5177bc74d4554bee91784a6ada517073-0-5\" class=\"displacy-label\" startOffset=\"50%\" side=\"left\" fill=\"currentColor\" text-anchor=\"middle\">amod</textPath>\n",
              "    </text>\n",
              "    <path class=\"displacy-arrowhead\" d=\"M610,139.0 L602,127.0 618,127.0\" fill=\"currentColor\"/>\n",
              "</g>\n",
              "\n",
              "<g class=\"displacy-arrow\">\n",
              "    <path class=\"displacy-arc\" id=\"arrow-5177bc74d4554bee91784a6ada517073-0-6\" stroke-width=\"2px\" d=\"M430,137.0 C430,2.0 680.0,2.0 680.0,137.0\" fill=\"none\" stroke=\"currentColor\"/>\n",
              "    <text dy=\"1.25em\" style=\"font-size: 0.8em; letter-spacing: 1px\">\n",
              "        <textPath xlink:href=\"#arrow-5177bc74d4554bee91784a6ada517073-0-6\" class=\"displacy-label\" startOffset=\"50%\" side=\"left\" fill=\"currentColor\" text-anchor=\"middle\">dobj</textPath>\n",
              "    </text>\n",
              "    <path class=\"displacy-arrowhead\" d=\"M680.0,139.0 L688.0,127.0 672.0,127.0\" fill=\"currentColor\"/>\n",
              "</g>\n",
              "\n",
              "<g class=\"displacy-arrow\">\n",
              "    <path class=\"displacy-arc\" id=\"arrow-5177bc74d4554bee91784a6ada517073-0-7\" stroke-width=\"2px\" d=\"M700,137.0 C700,92.0 760.0,92.0 760.0,137.0\" fill=\"none\" stroke=\"currentColor\"/>\n",
              "    <text dy=\"1.25em\" style=\"font-size: 0.8em; letter-spacing: 1px\">\n",
              "        <textPath xlink:href=\"#arrow-5177bc74d4554bee91784a6ada517073-0-7\" class=\"displacy-label\" startOffset=\"50%\" side=\"left\" fill=\"currentColor\" text-anchor=\"middle\">prep</textPath>\n",
              "    </text>\n",
              "    <path class=\"displacy-arrowhead\" d=\"M760.0,139.0 L768.0,127.0 752.0,127.0\" fill=\"currentColor\"/>\n",
              "</g>\n",
              "\n",
              "<g class=\"displacy-arrow\">\n",
              "    <path class=\"displacy-arc\" id=\"arrow-5177bc74d4554bee91784a6ada517073-0-8\" stroke-width=\"2px\" d=\"M880,137.0 C880,92.0 940.0,92.0 940.0,137.0\" fill=\"none\" stroke=\"currentColor\"/>\n",
              "    <text dy=\"1.25em\" style=\"font-size: 0.8em; letter-spacing: 1px\">\n",
              "        <textPath xlink:href=\"#arrow-5177bc74d4554bee91784a6ada517073-0-8\" class=\"displacy-label\" startOffset=\"50%\" side=\"left\" fill=\"currentColor\" text-anchor=\"middle\">compound</textPath>\n",
              "    </text>\n",
              "    <path class=\"displacy-arrowhead\" d=\"M880,139.0 L872,127.0 888,127.0\" fill=\"currentColor\"/>\n",
              "</g>\n",
              "\n",
              "<g class=\"displacy-arrow\">\n",
              "    <path class=\"displacy-arc\" id=\"arrow-5177bc74d4554bee91784a6ada517073-0-9\" stroke-width=\"2px\" d=\"M790,137.0 C790,47.0 945.0,47.0 945.0,137.0\" fill=\"none\" stroke=\"currentColor\"/>\n",
              "    <text dy=\"1.25em\" style=\"font-size: 0.8em; letter-spacing: 1px\">\n",
              "        <textPath xlink:href=\"#arrow-5177bc74d4554bee91784a6ada517073-0-9\" class=\"displacy-label\" startOffset=\"50%\" side=\"left\" fill=\"currentColor\" text-anchor=\"middle\">pobj</textPath>\n",
              "    </text>\n",
              "    <path class=\"displacy-arrowhead\" d=\"M945.0,139.0 L953.0,127.0 937.0,127.0\" fill=\"currentColor\"/>\n",
              "</g>\n",
              "</svg></span>"
            ]
          },
          "metadata": {}
        }
      ],
      "source": [
        "# grammar dependency tree parsing and visualisation\n",
        "from spacy import displacy\n",
        "\n",
        "doc = nlp('Wall Street Journal just published an interesting piece on crypto currencies')\n",
        "displacy.render(doc, style='dep', jupyter=True, options={'distance': 90})"
      ]
    },
    {
      "cell_type": "code",
      "execution_count": 9,
      "metadata": {
        "id": "mtIP03yZb_Wr"
      },
      "outputs": [],
      "source": [
        "# Rule-base matcher\n",
        "# import spacy Matcher\n",
        "from spacy.matcher import Matcher\n",
        "# create a matcher\n",
        "matcher = Matcher(nlp.vocab)\n",
        "# define a function to extract full name\n",
        "def extract_full_name(text: str):\n",
        "    pattern = [{'POS': 'PROPN'}, {'POS': 'PROPN'}]\n",
        "    matcher.add('FULL_NAME', [pattern])\n",
        "    doc = nlp(text)\n",
        "    names = []\n",
        "    matches = matcher(doc)\n",
        "    for match_id, start, end in matches:\n",
        "        span = doc[start:end]\n",
        "        names.append(span.text)\n",
        "    return names"
      ]
    },
    {
      "cell_type": "code",
      "execution_count": 10,
      "metadata": {
        "id": "PBnMWGmCb_Ws",
        "colab": {
          "base_uri": "https://localhost:8080/"
        },
        "outputId": "5fc1e81f-b344-4277-e35c-40e728c2f22d"
      },
      "outputs": [
        {
          "output_type": "stream",
          "name": "stdout",
          "text": [
            "Full names: ['John Richardson', 'Daniel Zhang', 'Lucy Khan']\n"
          ]
        }
      ],
      "source": [
        "# Find full name in sentence\n",
        "full_names = extract_full_name(\"I met John Richardson almost a year after Daniel Zhang married Lucy Khan\")\n",
        "print(f\"Full names: {full_names}\")"
      ]
    },
    {
      "cell_type": "code",
      "execution_count": 11,
      "metadata": {
        "id": "Q64UOnltb_Ws",
        "colab": {
          "base_uri": "https://localhost:8080/"
        },
        "outputId": "f5d6c955-88b4-4239-a287-a8905700300b"
      },
      "outputs": [
        {
          "output_type": "stream",
          "name": "stdout",
          "text": [
            "Token list: \n",
            "['He', 'determined', 'to', 'drop', 'his', 'litigation', 'with', 'the', 'monastery', ',', 'and', 'relinquish', 'his', 'claims', 'to', 'the', 'wood', '-', 'cutting', 'and', '\\n', 'fishery', 'rights', 'at', 'once', '.', 'He', 'was', 'the', 'more', 'ready', 'to', 'do', 'this', 'because', 'the', 'rights', 'had', 'become', 'much', 'less', 'valuable', ',', 'and', 'he', 'had', '\\n', 'indeed', 'the', 'vaguest', 'idea', 'where', 'the', 'wood', 'and', 'river', 'in', 'question', 'were', '.']\n",
            "\n",
            "Filtered text: \n",
            "['determined', 'drop', 'litigation', 'monastery', ',', 'relinquish', 'claims', 'wood', '-', 'cutting', '\\n', 'fishery', 'rights', '.', 'ready', 'rights', 'valuable', ',', '\\n', 'vaguest', 'idea', 'wood', 'river', 'question', '.']\n"
          ]
        }
      ],
      "source": [
        "# Removing stop words\n",
        "from spacy.lang.en.stop_words import STOP_WORDS\n",
        "text = \"\"\"He determined to drop his litigation with the monastery, and relinquish his claims to the wood-cutting and\n",
        "fishery rights at once. He was the more ready to do this because the rights had become much less valuable, and he had\n",
        "indeed the vaguest idea where the wood and river in question were.\"\"\"\n",
        "filtered_text =[]\n",
        "nlp_text = nlp(text)\n",
        "token_list = []\n",
        "for token in nlp_text:\n",
        "    token_list.append(token.text)\n",
        "for word in token_list:\n",
        "    lexeme = nlp.vocab[word]\n",
        "    if lexeme.is_stop == False:\n",
        "        filtered_text.append(word)\n",
        "print(f\"Token list: \\n{token_list}\")\n",
        "print(f\"\\nFiltered text: \\n{filtered_text}\")"
      ]
    },
    {
      "cell_type": "code",
      "execution_count": 12,
      "metadata": {
        "id": "bjbhluMib_Wt",
        "colab": {
          "base_uri": "https://localhost:8080/"
        },
        "outputId": "04aa3163-855a-45da-8117-2739392c11cd"
      },
      "outputs": [
        {
          "output_type": "stream",
          "name": "stdout",
          "text": [
            "Token:\tdog, has vector:\tTrue, token.vector_norm, token.is_oov\n",
            "Token:\tcat, has vector:\tTrue, token.vector_norm, token.is_oov\n",
            "Token:\tbanana, has vector:\tTrue, token.vector_norm, token.is_oov\n",
            "Token:\tafskfsd, has vector:\tFalse, token.vector_norm, token.is_oov\n",
            "\n",
            "Token 1: dog\n",
            " Vector:\n",
            "[ 1.2330e+00  4.2963e+00 -7.9738e+00 -1.0121e+01  1.8207e+00  1.4098e+00\n",
            " -4.5180e+00 -5.2261e+00 -2.9157e-01  9.5234e-01  6.9880e+00  5.0637e+00\n",
            " -5.5726e-03  3.3395e+00  6.4596e+00 -6.3742e+00  3.9045e-02 -3.9855e+00\n",
            "  1.2085e+00 -1.3186e+00 -4.8886e+00  3.7066e+00 -2.8281e+00 -3.5447e+00\n",
            "  7.6888e-01  1.5016e+00 -4.3632e+00  8.6480e+00 -5.9286e+00 -1.3055e+00\n",
            "  8.3870e-01  9.0137e-01 -1.7843e+00 -1.0148e+00  2.7300e+00 -6.9039e+00\n",
            "  8.0413e-01  7.4880e+00  6.1078e+00 -4.2130e+00 -1.5384e-01 -5.4995e+00\n",
            "  1.0896e+01  3.9278e+00 -1.3601e-01  7.7732e-02  3.2218e+00 -5.8777e+00\n",
            "  6.1359e-01 -2.4287e+00  6.2820e+00  1.3461e+01  4.3236e+00  2.4266e+00\n",
            " -2.6512e+00  1.1577e+00  5.0848e+00 -1.7058e+00  3.3824e+00  3.2850e+00\n",
            "  1.0969e+00 -8.3711e+00 -1.5554e+00  2.0296e+00 -2.6796e+00 -6.9195e+00\n",
            " -2.3386e+00 -1.9916e+00 -3.0450e+00  2.4890e+00  7.3247e+00  1.3364e+00\n",
            "  2.3828e-01  8.4388e-02  3.1480e+00 -1.1128e+00 -3.5598e+00 -1.2115e-01\n",
            " -2.0357e+00 -3.2731e+00 -7.7205e+00  4.0948e+00 -2.0732e+00  2.0833e+00\n",
            " -2.2803e+00 -4.9850e+00  9.7667e+00  6.1779e+00 -1.0352e+01 -2.2268e+00\n",
            "  2.5765e+00 -5.7440e+00  5.5564e+00 -5.2735e+00  3.0004e+00 -4.2512e+00\n",
            " -1.5682e+00  2.2698e+00  1.0491e+00 -9.0486e+00  4.2936e+00  1.8709e+00\n",
            "  5.1985e+00 -1.3153e+00  6.5224e+00  4.0113e-01 -1.2583e+01  3.6534e+00\n",
            " -2.0961e+00  1.0022e+00 -1.7873e+00 -4.2555e+00  7.7471e+00  1.0173e+00\n",
            "  3.1626e+00  2.3558e+00  3.3589e-01 -4.4178e+00  5.0584e+00 -2.4118e+00\n",
            " -2.7445e+00  3.4170e+00 -1.1574e+01 -2.6568e+00 -3.6933e+00 -2.0398e+00\n",
            "  5.0976e+00  6.5249e+00  3.3573e+00  9.5334e-01 -9.4430e-01 -9.4395e+00\n",
            "  2.7867e+00 -1.7549e+00  1.7287e+00  3.4942e+00 -1.6883e+00 -3.5771e+00\n",
            " -1.9013e+00  2.2239e+00 -5.4335e+00 -6.5724e+00 -6.7228e-01 -1.9748e+00\n",
            " -3.1080e+00 -1.8570e+00  9.9496e-01  8.9135e-01 -4.4254e+00  3.3125e-01\n",
            "  5.8815e+00  1.9384e+00  5.7294e-01 -2.8830e+00  3.8087e+00 -1.3095e+00\n",
            "  5.9208e+00  3.3620e+00  3.3571e+00 -3.8807e-01  9.0022e-01 -5.5742e+00\n",
            " -4.2939e+00  1.4992e+00 -4.7080e+00 -2.9402e+00 -1.2259e+00  3.0980e-01\n",
            "  1.8858e+00 -1.9867e+00 -2.3554e-01 -5.4535e-01 -2.1387e-01  2.4797e+00\n",
            "  5.9710e+00 -7.1249e+00  1.6257e+00 -1.5241e+00  7.5974e-01  1.4312e+00\n",
            "  2.3641e+00 -3.5566e+00  9.2066e-01  4.4934e-01 -1.3233e+00  3.1733e+00\n",
            " -4.7059e+00 -1.2090e+01 -3.9241e-01 -6.8457e-01 -3.6789e+00  6.6279e+00\n",
            " -2.9937e+00 -3.8361e+00  1.3868e+00 -4.9002e+00 -2.4299e+00  6.4312e+00\n",
            "  2.5056e+00 -4.5080e+00 -5.1278e+00 -1.5585e+00 -3.0226e+00 -8.6811e-01\n",
            " -1.1538e+00 -1.0022e+00 -9.1651e-01 -4.7810e-01 -1.6084e+00 -2.7307e+00\n",
            "  3.7080e+00  7.7423e-01 -1.1085e+00 -6.8755e-01 -8.2901e+00  3.2405e+00\n",
            " -1.6108e-01 -6.2837e-01 -5.5960e+00 -4.4865e+00  4.0115e-01 -3.7063e+00\n",
            " -2.1704e+00  4.0789e+00 -1.7973e+00  8.9538e+00  8.9421e-01 -4.8128e+00\n",
            "  4.5367e+00 -3.2579e-01 -5.2344e+00 -3.9766e+00 -2.1979e+00  3.5699e+00\n",
            "  1.4982e+00  6.0972e+00 -1.9704e+00  4.6522e+00 -3.7734e-01  3.9101e-02\n",
            "  2.5361e+00 -1.8096e+00  8.7035e+00 -8.6372e+00 -3.5257e+00  3.1034e+00\n",
            "  3.2635e+00  4.5437e+00 -5.7290e+00 -2.9141e-01 -2.0011e+00  8.5328e+00\n",
            " -4.5064e+00 -4.8276e+00 -1.1786e+01  3.5607e-01 -5.7115e+00  6.3122e+00\n",
            " -3.6650e+00  3.3597e-01  2.5017e+00 -3.5025e+00 -3.7891e+00 -3.1343e+00\n",
            " -1.4429e+00 -6.9119e+00 -2.6114e+00 -5.9757e-01  3.7847e-01  6.3187e+00\n",
            "  2.8965e+00 -2.5397e+00  1.8022e+00  3.5486e+00  4.4721e+00 -4.8481e+00\n",
            " -3.6252e+00  4.0969e+00 -2.0081e+00 -2.0122e-01  2.5244e+00 -6.8817e-01\n",
            "  6.7184e-01 -7.0466e+00  1.6641e+00 -2.2308e+00 -3.8960e+00  6.1320e+00\n",
            " -8.0335e+00 -1.7130e+00  2.5688e+00 -5.2547e+00  6.9845e+00  2.7835e-01\n",
            " -6.4554e+00 -2.1327e+00 -5.6515e+00  1.1174e+01 -8.0568e+00  5.7985e+00]\n"
          ]
        }
      ],
      "source": [
        "# word vectors\n",
        "tokens = nlp(\"dog cat banana afskfsd\")\n",
        "for token in tokens:\n",
        "    print(f\"Token:\\t{token.text}, has vector:\\t{token.has_vector}, token.vector_norm, token.is_oov\")\n",
        "print(f\"\\nToken 1: {tokens[0]}\\n Vector:\\n{tokens[0].vector}\")"
      ]
    },
    {
      "cell_type": "code",
      "execution_count": 13,
      "metadata": {
        "id": "1OlUkyasb_Wt",
        "colab": {
          "base_uri": "https://localhost:8080/"
        },
        "outputId": "ce0c497a-e17f-47e9-bdd7-3e493c4beb64"
      },
      "outputs": [
        {
          "output_type": "stream",
          "name": "stdout",
          "text": [
            "Token 1:\tdog,\t token 2:dog,\t similarity:1.0\n",
            "Token 1:\tdog,\t token 2:cat,\t similarity:0.8220816850662231\n",
            "Token 1:\tdog,\t token 2:banana,\t similarity:0.2090904712677002\n",
            "Token 1:\tdog,\t token 2:apple,\t similarity:0.22881005704402924\n",
            "Token 1:\tcat,\t token 2:dog,\t similarity:0.8220816850662231\n",
            "Token 1:\tcat,\t token 2:cat,\t similarity:1.0\n",
            "Token 1:\tcat,\t token 2:banana,\t similarity:0.2235882580280304\n",
            "Token 1:\tcat,\t token 2:apple,\t similarity:0.2036806046962738\n",
            "Token 1:\tbanana,\t token 2:dog,\t similarity:0.2090904712677002\n",
            "Token 1:\tbanana,\t token 2:cat,\t similarity:0.2235882580280304\n",
            "Token 1:\tbanana,\t token 2:banana,\t similarity:1.0\n",
            "Token 1:\tbanana,\t token 2:apple,\t similarity:0.6646699905395508\n",
            "Token 1:\tapple,\t token 2:dog,\t similarity:0.22881005704402924\n",
            "Token 1:\tapple,\t token 2:cat,\t similarity:0.2036806046962738\n",
            "Token 1:\tapple,\t token 2:banana,\t similarity:0.6646699905395508\n",
            "Token 1:\tapple,\t token 2:apple,\t similarity:1.0\n"
          ]
        }
      ],
      "source": [
        "# Word similarity\n",
        "tokens = nlp(\"dog cat banana apple\")\n",
        "for token1 in tokens:\n",
        "    for token2 in tokens:\n",
        "        print(f\"Token 1:\\t{token1.text},\\t token 2:{token2.text},\\t similarity:{token1.similarity(token2)}\")"
      ]
    },
    {
      "cell_type": "code",
      "execution_count": 14,
      "metadata": {
        "id": "TjylNUYlb_Wu",
        "colab": {
          "base_uri": "https://localhost:8080/"
        },
        "outputId": "02c27d1e-836b-48a4-efad-a87ed66be67b"
      },
      "outputs": [
        {
          "output_type": "stream",
          "name": "stdout",
          "text": [
            "Requirement already satisfied: textBlob in /usr/local/lib/python3.10/dist-packages (0.17.1)\n",
            "Requirement already satisfied: nltk>=3.1 in /usr/local/lib/python3.10/dist-packages (from textBlob) (3.9.1)\n",
            "Requirement already satisfied: click in /usr/local/lib/python3.10/dist-packages (from nltk>=3.1->textBlob) (8.1.7)\n",
            "Requirement already satisfied: joblib in /usr/local/lib/python3.10/dist-packages (from nltk>=3.1->textBlob) (1.4.2)\n",
            "Requirement already satisfied: regex>=2021.8.3 in /usr/local/lib/python3.10/dist-packages (from nltk>=3.1->textBlob) (2024.9.11)\n",
            "Requirement already satisfied: tqdm in /usr/local/lib/python3.10/dist-packages (from nltk>=3.1->textBlob) (4.66.6)\n"
          ]
        }
      ],
      "source": [
        "# Sentiment analysis with textBlob\n",
        "!pip install textBlob\n",
        "from textblob import TextBlob"
      ]
    },
    {
      "cell_type": "code",
      "execution_count": 15,
      "metadata": {
        "id": "PRBXkVFxb_Wu",
        "colab": {
          "base_uri": "https://localhost:8080/"
        },
        "outputId": "85c3fd9b-0a3a-448d-d604-f2e2684eaafb"
      },
      "outputs": [
        {
          "output_type": "stream",
          "name": "stdout",
          "text": [
            "Sentiment(polarity=0.8, subjectivity=1.0)\n"
          ]
        }
      ],
      "source": [
        "# Detect sentiment of a text\n",
        "# text = \"Textblob is amazingly simple to use. What great fun!\"\n",
        "text=\"I am so happy with my progress in the data science course\"\n",
        "textBlob = TextBlob(text)\n",
        "print(f\"{textBlob.sentiment}\")"
      ]
    },
    {
      "cell_type": "markdown",
      "metadata": {
        "id": "mXsE6Wimb_Wu"
      },
      "source": [
        "\n",
        "\n",
        "---\n",
        "\n",
        "\n",
        "\n",
        "---\n",
        "\n",
        "\n",
        "\n",
        "> > > > > > > > > © 2024 Institute of Data\n",
        "\n",
        "\n",
        "---\n",
        "\n",
        "\n",
        "\n",
        "---\n",
        "\n",
        "\n",
        "\n"
      ]
    }
  ],
  "metadata": {
    "kernelspec": {
      "display_name": "Python 3",
      "language": "python",
      "name": "python3"
    },
    "language_info": {
      "codemirror_mode": {
        "name": "ipython",
        "version": 3
      },
      "file_extension": ".py",
      "mimetype": "text/x-python",
      "name": "python",
      "nbconvert_exporter": "python",
      "pygments_lexer": "ipython3",
      "version": "3.8.5"
    },
    "colab": {
      "provenance": [],
      "include_colab_link": true
    }
  },
  "nbformat": 4,
  "nbformat_minor": 0
}